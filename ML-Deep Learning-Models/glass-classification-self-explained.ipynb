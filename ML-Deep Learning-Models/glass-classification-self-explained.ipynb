{
 "cells": [
  {
   "cell_type": "markdown",
   "metadata": {
    "_cell_guid": "b1076dfc-b9ad-4769-8c92-a6c4dae69d19",
    "_uuid": "8f2839f25d086af736a60e9eeb907d3b93b6e0e5"
   },
   "source": [
    "# MACHINE LEARNING PROBLEM SOLVING APPROACH\n",
    "<img src=\"Images/Glass/1.png\"  width=\"400\" height=\"400\"><br>\n",
    "## Looks compilcated? We will get a hold of it"
   ]
  },
  {
   "attachments": {},
   "cell_type": "markdown",
   "metadata": {
    "_cell_guid": "79c7e3d0-c299-4dcb-8224-4455121ee9b0",
    "_uuid": "d629ff2d2480ee46fbb7e2d37f6b5fab8052498a",
    "collapsed": true
   },
   "source": [
    "# Problem\n",
    "* There are different typea of glasses.\n",
    "<img src=\"Images/Glass/2.png\"  width=\"300\" height=\"300\"><br>\n",
    "* The glasses differ each other from their quantities of the constituent elements.\n",
    "* Given the constituents and their percentage in a glass, our goal is to identify the type of glass.\n",
    "* Here we have 7 different types of classes."
   ]
  },
  {
   "attachments": {},
   "cell_type": "markdown",
   "metadata": {},
   "source": [
    "# ML Problem Framing\n",
    "* If we see our problem, it is a classification problem.\n",
    "<img src=\"Images/Glass/3.png\"  width=\"300\" height=\"300\"><br>\n",
    "* We can use Machine Learning various machine learning approaches to model this problem."
   ]
  },
  {
   "attachments": {},
   "cell_type": "markdown",
   "metadata": {},
   "source": [
    "## But which approach gives best results? This is where we get the intuition behind the iterative process of Machine Learning.\n",
    "* We try many approaches repetitively, and select the best one.\n",
    "<img src=\"Images/Glass/4.png\"  width=\"250\" height=\"250\"><br>"
   ]
  },
  {
   "attachments": {},
   "cell_type": "markdown",
   "metadata": {},
   "source": [
    "# Data Collection\n",
    "* Machine learning reqiures data to train from. In our case it is a well labelled data.\n",
    "* Link: https://www.kaggle.com/uciml/glass\n",
    "* The data is in well defined CSV format\n",
    "* This dataset is given by UCI, one of the largest centres for Machine Learning datasets<br>\n",
    "<img src=\"Images/Glass/5.png\"  width=\"300\" height=\"400\"><br>"
   ]
  },
  {
   "cell_type": "markdown",
   "metadata": {},
   "source": [
    "# Data Integration\n",
    "* We now have to integrate or put together our collected data with our working notebook.<br><br>\n",
    "1) Download the CSV file from the link and copy it in the working directory (same directory of the notebook)<br><br>\n",
    "2) Read the data using library called **pandas**. It is a well known data handler for Python and Machine Learning."
   ]
  },
  {
   "cell_type": "code",
   "execution_count": 1,
   "metadata": {},
   "outputs": [],
   "source": [
    "import pandas as pd\n",
    "data = pd.read_csv('../input/glass/glass.csv') # Function for reading a CSV file"
   ]
  },
  {
   "cell_type": "markdown",
   "metadata": {},
   "source": [
    "# Data Preparation and Cleaning\n",
    "* Our model's performance is entirely dependent on data we give it to train.\n",
    "* So, this data should be clean, standard and well ordered."
   ]
  },
  {
   "cell_type": "markdown",
   "metadata": {},
   "source": [
    " ### Lets look at the data\n",
    " * The head() function of the pandas give a good and neat glance at our data"
   ]
  },
  {
   "cell_type": "code",
   "execution_count": 2,
   "metadata": {},
   "outputs": [
    {
     "data": {
      "text/html": [
       "<div>\n",
       "<style scoped>\n",
       "    .dataframe tbody tr th:only-of-type {\n",
       "        vertical-align: middle;\n",
       "    }\n",
       "\n",
       "    .dataframe tbody tr th {\n",
       "        vertical-align: top;\n",
       "    }\n",
       "\n",
       "    .dataframe thead th {\n",
       "        text-align: right;\n",
       "    }\n",
       "</style>\n",
       "<table border=\"1\" class=\"dataframe\">\n",
       "  <thead>\n",
       "    <tr style=\"text-align: right;\">\n",
       "      <th></th>\n",
       "      <th>RI</th>\n",
       "      <th>Na</th>\n",
       "      <th>Mg</th>\n",
       "      <th>Al</th>\n",
       "      <th>Si</th>\n",
       "      <th>K</th>\n",
       "      <th>Ca</th>\n",
       "      <th>Ba</th>\n",
       "      <th>Fe</th>\n",
       "      <th>Type</th>\n",
       "    </tr>\n",
       "  </thead>\n",
       "  <tbody>\n",
       "    <tr>\n",
       "      <th>0</th>\n",
       "      <td>1.52101</td>\n",
       "      <td>13.64</td>\n",
       "      <td>4.49</td>\n",
       "      <td>1.10</td>\n",
       "      <td>71.78</td>\n",
       "      <td>0.06</td>\n",
       "      <td>8.75</td>\n",
       "      <td>0.0</td>\n",
       "      <td>0.0</td>\n",
       "      <td>1</td>\n",
       "    </tr>\n",
       "    <tr>\n",
       "      <th>1</th>\n",
       "      <td>1.51761</td>\n",
       "      <td>13.89</td>\n",
       "      <td>3.60</td>\n",
       "      <td>1.36</td>\n",
       "      <td>72.73</td>\n",
       "      <td>0.48</td>\n",
       "      <td>7.83</td>\n",
       "      <td>0.0</td>\n",
       "      <td>0.0</td>\n",
       "      <td>1</td>\n",
       "    </tr>\n",
       "    <tr>\n",
       "      <th>2</th>\n",
       "      <td>1.51618</td>\n",
       "      <td>13.53</td>\n",
       "      <td>3.55</td>\n",
       "      <td>1.54</td>\n",
       "      <td>72.99</td>\n",
       "      <td>0.39</td>\n",
       "      <td>7.78</td>\n",
       "      <td>0.0</td>\n",
       "      <td>0.0</td>\n",
       "      <td>1</td>\n",
       "    </tr>\n",
       "    <tr>\n",
       "      <th>3</th>\n",
       "      <td>1.51766</td>\n",
       "      <td>13.21</td>\n",
       "      <td>3.69</td>\n",
       "      <td>1.29</td>\n",
       "      <td>72.61</td>\n",
       "      <td>0.57</td>\n",
       "      <td>8.22</td>\n",
       "      <td>0.0</td>\n",
       "      <td>0.0</td>\n",
       "      <td>1</td>\n",
       "    </tr>\n",
       "    <tr>\n",
       "      <th>4</th>\n",
       "      <td>1.51742</td>\n",
       "      <td>13.27</td>\n",
       "      <td>3.62</td>\n",
       "      <td>1.24</td>\n",
       "      <td>73.08</td>\n",
       "      <td>0.55</td>\n",
       "      <td>8.07</td>\n",
       "      <td>0.0</td>\n",
       "      <td>0.0</td>\n",
       "      <td>1</td>\n",
       "    </tr>\n",
       "  </tbody>\n",
       "</table>\n",
       "</div>"
      ],
      "text/plain": [
       "        RI     Na    Mg    Al     Si     K    Ca   Ba   Fe  Type\n",
       "0  1.52101  13.64  4.49  1.10  71.78  0.06  8.75  0.0  0.0     1\n",
       "1  1.51761  13.89  3.60  1.36  72.73  0.48  7.83  0.0  0.0     1\n",
       "2  1.51618  13.53  3.55  1.54  72.99  0.39  7.78  0.0  0.0     1\n",
       "3  1.51766  13.21  3.69  1.29  72.61  0.57  8.22  0.0  0.0     1\n",
       "4  1.51742  13.27  3.62  1.24  73.08  0.55  8.07  0.0  0.0     1"
      ]
     },
     "execution_count": 2,
     "metadata": {},
     "output_type": "execute_result"
    }
   ],
   "source": [
    "data.head()"
   ]
  },
  {
   "cell_type": "markdown",
   "metadata": {},
   "source": [
    "* As you can see, the first column is for indexing and the first row is for the naming of columns.\n",
    "* We can give our own names and indexing to the data, but it is not reqiured here.\n",
    "* The columns from 1 to 9 **(0 based)** are the attriutes or features of our data.\n",
    "* The last column **\"Type\"** is our target or to be predicted feature and has 7 different classes."
   ]
  },
  {
   "cell_type": "markdown",
   "metadata": {},
   "source": [
    "# Data Visualization\n",
    "* To preprocess or standardize the data, we need to have a look at the data.\n",
    "* Data visualization is an important part to identify unbalanced classes, correlations between data, feature engineering, feature elimination, etc.\n",
    "* We visualize data mostly in the form of user friendly plots, graphs."
   ]
  },
  {
   "cell_type": "markdown",
   "metadata": {},
   "source": [
    "## 1) Class Distribution and Imbalance\n",
    "* We can see how many samples are there for each class. Ideally we want them to have equal and more samples for best results.\n",
    "* We can visualize this didtribution using bar plots or histograms.\n",
    "* A histogram is a bar plot showing the frequency distributions of the variable.\n",
    "* Seaborn is a library for making statistical graphics in Python. It is built on top of matplotlib and closely integrated with pandas data structures.\n",
    "*  In seaborn, it’s easy to do so with the catplot() function.\n",
    "* Refer \"https://seaborn.pydata.org/tutorial/categorical.html#categorical-tutorial\" for more detailed explanations and options."
   ]
  },
  {
   "cell_type": "code",
   "execution_count": 3,
   "metadata": {},
   "outputs": [
    {
     "data": {
      "text/plain": [
       "<seaborn.axisgrid.FacetGrid at 0x7f46d464db50>"
      ]
     },
     "execution_count": 3,
     "metadata": {},
     "output_type": "execute_result"
    },
    {
     "data": {
      "image/png": "[encoded data removed]",
      "text/plain": [
       "<Figure size 360x360 with 1 Axes>"
      ]
     },
     "metadata": {
      "needs_background": "light"
     },
     "output_type": "display_data"
    }
   ],
   "source": [
    "import seaborn as sns\n",
    "import matplotlib.pyplot as plt\n",
    "sns.catplot(x=\"Type\", kind=\"count\", palette=\"ch:.25\", data=data)"
   ]
  },
  {
   "cell_type": "markdown",
   "metadata": {},
   "source": [
    "* As you can see the data samples are more biased to the 1st and 2nd types of glasses.\n",
    "* There is no data for the 4th class.\n",
    "* In practice, we can collect more data on other classes and train our model, but here we shall continue the process.\n",
    "* So this visualization gave you the insight on the distribution of classes and now you know what data you should look for, instead of collecting garbage."
   ]
  },
  {
   "cell_type": "markdown",
   "metadata": {},
   "source": [
    "## 2) Scatter Plots\n",
    "* The most familiar way to visualize a bivariate distribution is a scatterplot, where each observation is shown with point at the x and y values.\n",
    "* We will use it to see how each feature relates to the class."
   ]
  },
  {
   "cell_type": "code",
   "execution_count": 4,
   "metadata": {},
   "outputs": [
    {
     "data": {
      "image/png": "[encoded data removed]",
      "text/plain": [
       "<Figure size 432x432 with 3 Axes>"
      ]
     },
     "metadata": {
      "needs_background": "light"
     },
     "output_type": "display_data"
    }
   ],
   "source": [
    "sns.jointplot(x=\"Mg\", y=\"Type\", data=data);"
   ]
  },
  {
   "cell_type": "markdown",
   "metadata": {},
   "source": [
    "* We can see that the magnesium content for class1 amd class2 are very high in general as compared to other classes."
   ]
  },
  {
   "cell_type": "code",
   "execution_count": 5,
   "metadata": {},
   "outputs": [
    {
     "data": {
      "image/png": "[encoded data removed]",
      "text/plain": [
       "<Figure size 432x432 with 3 Axes>"
      ]
     },
     "metadata": {
      "needs_background": "light"
     },
     "output_type": "display_data"
    }
   ],
   "source": [
    "sns.jointplot(x=\"Na\", y=\"Type\", data=data);"
   ]
  },
  {
   "cell_type": "markdown",
   "metadata": {},
   "source": [
    "* As you can see, the sodium content really doesnt matter as it is in the same range for all the classes."
   ]
  },
  {
   "cell_type": "code",
   "execution_count": 6,
   "metadata": {},
   "outputs": [
    {
     "data": {
      "image/png": "[encoded data removed]",
      "text/plain": [
       "<Figure size 432x432 with 3 Axes>"
      ]
     },
     "metadata": {
      "needs_background": "light"
     },
     "output_type": "display_data"
    }
   ],
   "source": [
    "sns.jointplot(x=\"Al\", y=\"Type\", data=data);"
   ]
  },
  {
   "cell_type": "markdown",
   "metadata": {},
   "source": [
    "* We can see that the magnesium content for class1, class2 and class3 is very low in general as compared to other classes."
   ]
  },
  {
   "cell_type": "code",
   "execution_count": 7,
   "metadata": {},
   "outputs": [
    {
     "data": {
      "image/png": "[encoded data removed]",
      "text/plain": [
       "<Figure size 432x432 with 3 Axes>"
      ]
     },
     "metadata": {
      "needs_background": "light"
     },
     "output_type": "display_data"
    }
   ],
   "source": [
    "sns.jointplot(x=\"Si\", y=\"Type\", data=data);"
   ]
  },
  {
   "cell_type": "code",
   "execution_count": 8,
   "metadata": {},
   "outputs": [
    {
     "data": {
      "image/png": "[encoded data removed]",
      "text/plain": [
       "<Figure size 432x432 with 3 Axes>"
      ]
     },
     "metadata": {
      "needs_background": "light"
     },
     "output_type": "display_data"
    }
   ],
   "source": [
    "sns.jointplot(x=\"K\", y=\"Type\", data=data);"
   ]
  },
  {
   "cell_type": "code",
   "execution_count": 9,
   "metadata": {},
   "outputs": [
    {
     "data": {
      "image/png": "[encoded data removed]",
      "text/plain": [
       "<Figure size 432x432 with 3 Axes>"
      ]
     },
     "metadata": {
      "needs_background": "light"
     },
     "output_type": "display_data"
    }
   ],
   "source": [
    "sns.jointplot(x=\"Ca\", y=\"Type\", data=data);"
   ]
  },
  {
   "cell_type": "code",
   "execution_count": 10,
   "metadata": {},
   "outputs": [
    {
     "data": {
      "image/png": "[encoded data removed]",
      "text/plain": [
       "<Figure size 432x432 with 3 Axes>"
      ]
     },
     "metadata": {
      "needs_background": "light"
     },
     "output_type": "display_data"
    }
   ],
   "source": [
    "sns.jointplot(x=\"Ba\", y=\"Type\", data=data);"
   ]
  },
  {
   "cell_type": "code",
   "execution_count": 11,
   "metadata": {},
   "outputs": [
    {
     "data": {
      "text/plain": [
       "<seaborn.axisgrid.JointGrid at 0x7f46cd9735d0>"
      ]
     },
     "execution_count": 11,
     "metadata": {},
     "output_type": "execute_result"
    },
    {
     "data": {
      "image/png": "[encoded data removed]",
      "text/plain": [
       "<Figure size 432x432 with 3 Axes>"
      ]
     },
     "metadata": {
      "needs_background": "light"
     },
     "output_type": "display_data"
    }
   ],
   "source": [
    "sns.jointplot(x=\"Fe\", y=\"Type\", data=data)"
   ]
  },
  {
   "attachments": {},
   "cell_type": "markdown",
   "metadata": {},
   "source": [
    "## 3) Correlation plot\n",
    "* Correlation matrix gives us how one feature is dependent on another.\n",
    "* If any two features are too dependent on other, then we can remove one.\n",
    "* The matrix contains n by n entries, where each (i,j) entry is the correlation between the ith feature and jth feature.\n",
    "<img src=\"Images/Glass/6.png\"  width=\"300\" height=\"300\"><br>\n",
    "* The corr() function of pandas is used to compute pairwise covariance of columns, excluding NA/null values."
   ]
  },
  {
   "cell_type": "code",
   "execution_count": 12,
   "metadata": {},
   "outputs": [
    {
     "data": {
      "text/html": [
       "<div>\n",
       "<style scoped>\n",
       "    .dataframe tbody tr th:only-of-type {\n",
       "        vertical-align: middle;\n",
       "    }\n",
       "\n",
       "    .dataframe tbody tr th {\n",
       "        vertical-align: top;\n",
       "    }\n",
       "\n",
       "    .dataframe thead th {\n",
       "        text-align: right;\n",
       "    }\n",
       "</style>\n",
       "<table border=\"1\" class=\"dataframe\">\n",
       "  <thead>\n",
       "    <tr style=\"text-align: right;\">\n",
       "      <th></th>\n",
       "      <th>RI</th>\n",
       "      <th>Na</th>\n",
       "      <th>Mg</th>\n",
       "      <th>Al</th>\n",
       "      <th>Si</th>\n",
       "      <th>K</th>\n",
       "      <th>Ca</th>\n",
       "      <th>Ba</th>\n",
       "      <th>Fe</th>\n",
       "    </tr>\n",
       "  </thead>\n",
       "  <tbody>\n",
       "    <tr>\n",
       "      <th>RI</th>\n",
       "      <td>1.000000</td>\n",
       "      <td>-0.191885</td>\n",
       "      <td>-0.122274</td>\n",
       "      <td>-0.407326</td>\n",
       "      <td>-0.542052</td>\n",
       "      <td>-0.289833</td>\n",
       "      <td>0.810403</td>\n",
       "      <td>-0.000386</td>\n",
       "      <td>0.143010</td>\n",
       "    </tr>\n",
       "    <tr>\n",
       "      <th>Na</th>\n",
       "      <td>-0.191885</td>\n",
       "      <td>1.000000</td>\n",
       "      <td>-0.273732</td>\n",
       "      <td>0.156794</td>\n",
       "      <td>-0.069809</td>\n",
       "      <td>-0.266087</td>\n",
       "      <td>-0.275442</td>\n",
       "      <td>0.326603</td>\n",
       "      <td>-0.241346</td>\n",
       "    </tr>\n",
       "    <tr>\n",
       "      <th>Mg</th>\n",
       "      <td>-0.122274</td>\n",
       "      <td>-0.273732</td>\n",
       "      <td>1.000000</td>\n",
       "      <td>-0.481799</td>\n",
       "      <td>-0.165927</td>\n",
       "      <td>0.005396</td>\n",
       "      <td>-0.443750</td>\n",
       "      <td>-0.492262</td>\n",
       "      <td>0.083060</td>\n",
       "    </tr>\n",
       "    <tr>\n",
       "      <th>Al</th>\n",
       "      <td>-0.407326</td>\n",
       "      <td>0.156794</td>\n",
       "      <td>-0.481799</td>\n",
       "      <td>1.000000</td>\n",
       "      <td>-0.005524</td>\n",
       "      <td>0.325958</td>\n",
       "      <td>-0.259592</td>\n",
       "      <td>0.479404</td>\n",
       "      <td>-0.074402</td>\n",
       "    </tr>\n",
       "    <tr>\n",
       "      <th>Si</th>\n",
       "      <td>-0.542052</td>\n",
       "      <td>-0.069809</td>\n",
       "      <td>-0.165927</td>\n",
       "      <td>-0.005524</td>\n",
       "      <td>1.000000</td>\n",
       "      <td>-0.193331</td>\n",
       "      <td>-0.208732</td>\n",
       "      <td>-0.102151</td>\n",
       "      <td>-0.094201</td>\n",
       "    </tr>\n",
       "    <tr>\n",
       "      <th>K</th>\n",
       "      <td>-0.289833</td>\n",
       "      <td>-0.266087</td>\n",
       "      <td>0.005396</td>\n",
       "      <td>0.325958</td>\n",
       "      <td>-0.193331</td>\n",
       "      <td>1.000000</td>\n",
       "      <td>-0.317836</td>\n",
       "      <td>-0.042618</td>\n",
       "      <td>-0.007719</td>\n",
       "    </tr>\n",
       "    <tr>\n",
       "      <th>Ca</th>\n",
       "      <td>0.810403</td>\n",
       "      <td>-0.275442</td>\n",
       "      <td>-0.443750</td>\n",
       "      <td>-0.259592</td>\n",
       "      <td>-0.208732</td>\n",
       "      <td>-0.317836</td>\n",
       "      <td>1.000000</td>\n",
       "      <td>-0.112841</td>\n",
       "      <td>0.124968</td>\n",
       "    </tr>\n",
       "    <tr>\n",
       "      <th>Ba</th>\n",
       "      <td>-0.000386</td>\n",
       "      <td>0.326603</td>\n",
       "      <td>-0.492262</td>\n",
       "      <td>0.479404</td>\n",
       "      <td>-0.102151</td>\n",
       "      <td>-0.042618</td>\n",
       "      <td>-0.112841</td>\n",
       "      <td>1.000000</td>\n",
       "      <td>-0.058692</td>\n",
       "    </tr>\n",
       "    <tr>\n",
       "      <th>Fe</th>\n",
       "      <td>0.143010</td>\n",
       "      <td>-0.241346</td>\n",
       "      <td>0.083060</td>\n",
       "      <td>-0.074402</td>\n",
       "      <td>-0.094201</td>\n",
       "      <td>-0.007719</td>\n",
       "      <td>0.124968</td>\n",
       "      <td>-0.058692</td>\n",
       "      <td>1.000000</td>\n",
       "    </tr>\n",
       "  </tbody>\n",
       "</table>\n",
       "</div>"
      ],
      "text/plain": [
       "          RI        Na        Mg        Al        Si         K        Ca  \\\n",
       "RI  1.000000 -0.191885 -0.122274 -0.407326 -0.542052 -0.289833  0.810403   \n",
       "Na -0.191885  1.000000 -0.273732  0.156794 -0.069809 -0.266087 -0.275442   \n",
       "Mg -0.122274 -0.273732  1.000000 -0.481799 -0.165927  0.005396 -0.443750   \n",
       "Al -0.407326  0.156794 -0.481799  1.000000 -0.005524  0.325958 -0.259592   \n",
       "Si -0.542052 -0.069809 -0.165927 -0.005524  1.000000 -0.193331 -0.208732   \n",
       "K  -0.289833 -0.266087  0.005396  0.325958 -0.193331  1.000000 -0.317836   \n",
       "Ca  0.810403 -0.275442 -0.443750 -0.259592 -0.208732 -0.317836  1.000000   \n",
       "Ba -0.000386  0.326603 -0.492262  0.479404 -0.102151 -0.042618 -0.112841   \n",
       "Fe  0.143010 -0.241346  0.083060 -0.074402 -0.094201 -0.007719  0.124968   \n",
       "\n",
       "          Ba        Fe  \n",
       "RI -0.000386  0.143010  \n",
       "Na  0.326603 -0.241346  \n",
       "Mg -0.492262  0.083060  \n",
       "Al  0.479404 -0.074402  \n",
       "Si -0.102151 -0.094201  \n",
       "K  -0.042618 -0.007719  \n",
       "Ca -0.112841  0.124968  \n",
       "Ba  1.000000 -0.058692  \n",
       "Fe -0.058692  1.000000  "
      ]
     },
     "execution_count": 12,
     "metadata": {},
     "output_type": "execute_result"
    }
   ],
   "source": [
    "X = data.iloc[:,:-1]\n",
    "X.corr()"
   ]
  },
  {
   "cell_type": "markdown",
   "metadata": {},
   "source": [
    "## Some steps to ensure the sanity of data are:"
   ]
  },
  {
   "cell_type": "markdown",
   "metadata": {},
   "source": [
    "## 1) Missing Values\n",
    "* Our collected data can heve some missing values with \"NaN\" tag. We cannot give it to our model, as it does not understand it.\n",
    "* Pandas provides some methods specific to missing data. To select NaN entries you can use **\"pd.isnull()\"**"
   ]
  },
  {
   "cell_type": "code",
   "execution_count": 13,
   "metadata": {},
   "outputs": [
    {
     "data": {
      "text/plain": [
       "RI      0\n",
       "Na      0\n",
       "Mg      0\n",
       "Al      0\n",
       "Si      0\n",
       "K       0\n",
       "Ca      0\n",
       "Ba      0\n",
       "Fe      0\n",
       "Type    0\n",
       "dtype: int64"
      ]
     },
     "execution_count": 13,
     "metadata": {},
     "output_type": "execute_result"
    }
   ],
   "source": [
    "data.isnull().sum()"
   ]
  },
  {
   "cell_type": "markdown",
   "metadata": {},
   "source": [
    "* As you can see, there are no missing values when we sum up the missing values for each feature.\n",
    "* If we have missing values, The **\"SimpleImputer\"** class of **Scikit Learn** provides basic strategies for imputing missing values. \n",
    "* Missing values can be imputed with a provided constant value, or using the statistics (mean, median or most frequent) of each column in which the missing values are located.\n",
    "* For more analysis on library, visit https://scikit-learn.org/stable/modules/generated/sklearn.impute.SimpleImputer.html"
   ]
  },
  {
   "cell_type": "code",
   "execution_count": 14,
   "metadata": {},
   "outputs": [
    {
     "name": "stdout",
     "output_type": "stream",
     "text": [
      "[[4.         2.        ]\n",
      " [6.         3.66666667]\n",
      " [7.         6.        ]]\n"
     ]
    }
   ],
   "source": [
    "from sklearn.impute import SimpleImputer\n",
    "import numpy as np\n",
    "imp = SimpleImputer(missing_values=np.nan, strategy='mean')\n",
    "imp.fit([[1, 2], [np.nan, 3], [7, 6]]) #Fit using the given array\n",
    "X = [[np.nan, 2], [6, np.nan], [7, 6]] #Transform an array based on the fitting\n",
    "print(imp.transform(X))"
   ]
  },
  {
   "cell_type": "markdown",
   "metadata": {},
   "source": [
    "* **Scikit-learn** is a standard,easy-use library used in basic Machine Learning.\n",
    "* It contains almost every algorithm in Machine Learning and other tools for processing, thus making our developement much faster and easier.\n",
    "* **numpy** is a mathematical library used to perform any mathematical operations in python"
   ]
  },
  {
   "cell_type": "markdown",
   "metadata": {},
   "source": [
    "## 2)Dividing the features and target\n",
    "* iloc is a pandas based tool for selecting and indexing"
   ]
  },
  {
   "cell_type": "code",
   "execution_count": 15,
   "metadata": {},
   "outputs": [
    {
     "name": "stdout",
     "output_type": "stream",
     "text": [
      "          RI     Na    Mg    Al     Si     K    Ca    Ba   Fe\n",
      "0    1.52101  13.64  4.49  1.10  71.78  0.06  8.75  0.00  0.0\n",
      "1    1.51761  13.89  3.60  1.36  72.73  0.48  7.83  0.00  0.0\n",
      "2    1.51618  13.53  3.55  1.54  72.99  0.39  7.78  0.00  0.0\n",
      "3    1.51766  13.21  3.69  1.29  72.61  0.57  8.22  0.00  0.0\n",
      "4    1.51742  13.27  3.62  1.24  73.08  0.55  8.07  0.00  0.0\n",
      "..       ...    ...   ...   ...    ...   ...   ...   ...  ...\n",
      "209  1.51623  14.14  0.00  2.88  72.61  0.08  9.18  1.06  0.0\n",
      "210  1.51685  14.92  0.00  1.99  73.06  0.00  8.40  1.59  0.0\n",
      "211  1.52065  14.36  0.00  2.02  73.42  0.00  8.44  1.64  0.0\n",
      "212  1.51651  14.38  0.00  1.94  73.61  0.00  8.48  1.57  0.0\n",
      "213  1.51711  14.23  0.00  2.08  73.36  0.00  8.62  1.67  0.0\n",
      "\n",
      "[214 rows x 9 columns]\n",
      "0      1\n",
      "1      1\n",
      "2      1\n",
      "3      1\n",
      "4      1\n",
      "      ..\n",
      "209    7\n",
      "210    7\n",
      "211    7\n",
      "212    7\n",
      "213    7\n",
      "Name: Type, Length: 214, dtype: int64\n"
     ]
    }
   ],
   "source": [
    "X = data.iloc[:,:-1]\n",
    "print(X)\n",
    "#X.drop(columns=['K','Na']) As we saw the 'Na' and 'K' columns have same ranges for all classes, try removing them and train the model.\n",
    "Y = data.iloc[:,-1]\n",
    "print(Y)"
   ]
  },
  {
   "attachments": {},
   "cell_type": "markdown",
   "metadata": {},
   "source": [
    "## 3) Scaling or Normalizing the data\n",
    "* Consider the example where one feauture in the number of rooms (range: 1-10) and other is price (range: 10000-5000000).\n",
    "* Clearly, the feautures have different ranges which makes one feature dominant over another while updating gradients, and also slows the process.\n",
    "<img src=\"Images/Glass/7.png\"  width=\"300\" height=\"300\"><br>\n",
    "* Some alogorithms like SVM, Naive Bayes requires the data in a normalized form in order to work.\n",
    "* So we normalize or standardize the data by making every **feature zero mean and unit variance**.\n",
    "* Scikit Learn provides **\"StandardScalar()\"** to do this task for us.\n",
    "* For more analysis on library, visit https://scikit-learn.org/stable/modules/generated/sklearn.preprocessing.StandardScaler.html"
   ]
  },
  {
   "cell_type": "code",
   "execution_count": 16,
   "metadata": {},
   "outputs": [],
   "source": [
    "from sklearn.preprocessing import StandardScaler\n",
    "scaler  = StandardScaler()\n",
    "scaler.fit(X)\n",
    "X_std = scaler.transform(X)"
   ]
  },
  {
   "cell_type": "markdown",
   "metadata": {},
   "source": [
    "## 4) k-fold Cross-Validation\n",
    "* It is a best practice to divide the data into train and test to see how our model is working on unseen data.\n",
    "* But we have less data. test data cannot give surity to our results and also train data is not suffucient to train. \n",
    "* So as an alternative we use **k-fold cross validation**"
   ]
  },
  {
   "cell_type": "markdown",
   "metadata": {},
   "source": [
    "* Cross-validation is primarily used in applied machine learning to estimate the skill of a machine learning model on unseen data. That is, to use a limited sample in order to estimate how the model is expected to perform in general.<br>\n",
    "* The procedure has a single parameter called k that refers to the number of groups that a given data sample is to be split into. As such, the procedure is often called k-fold cross-validation.\n",
    "<br>\n",
    "* It is a popular method and standard method used in selection of algorithms.\n",
    "<br><br>\n",
    "\n",
    "### Working <br>\n",
    "\n",
    "Imagine we have a data sample with 6 observations:\n",
    "<br>\n",
    " [0.1, 0.2, 0.3, 0.4, 0.5, 0.6]\n",
    "<br>\n",
    "* The first step is to pick a value for k in order to determine the number of folds used to split the data. Here, we will use a value of k=3. \n",
    "* That means we will shuffle the data and then split the data into 3 groups. Because we have 6 observations, each group will have an equal number of 2 observations.<br><br>\n",
    "Fold1: [0.5, 0.2]<br>\n",
    "Fold2: [0.1, 0.3]<br>\n",
    "Fold3: [0.4, 0.6]\n",
    "<br><br>\n",
    "* Three models are trained and evaluated with each fold given a chance to be the held out test set.<br>\n",
    "<br>\n",
    "Model1: Trained on Fold1 + Fold2, Tested on Fold3<br>\n",
    "Model2: Trained on Fold2 + Fold3, Tested on Fold1<br>\n",
    "Model3: Trained on Fold1 + Fold3, Tested on Fold2\n",
    "<br><br>\n",
    "* The models are then discarded after they are evaluated as they have served their purpose.\n",
    "* The skill scores are collected for each model,summarized for use and the best average scored model is selected.\n",
    "\n",
    "### API <br>\n",
    "* We do not have to implement k-fold cross-validation manually. The scikit-learn library provides an implementation that will split a given data sample up.\n",
    "\n",
    "* The KFold() and cross_val_score() scikit-learn classes can be used. It takes as arguments the number of splits, whether or not to shuffle the sample, and the seed for the pseudorandom number generator used prior to the shuffle.<br>\n",
    "**ex: kfold = KFold(3, True, 1)**\n",
    "* For more analysis on library, visit https://scikit-learn.org/stable/modules/generated/sklearn.model_selection.KFold.html\n",
    "   and https://scikit-learn.org/stable/modules/generated/sklearn.model_selection.cross_val_score.html"
   ]
  },
  {
   "cell_type": "code",
   "execution_count": 17,
   "metadata": {
    "collapsed": true
   },
   "outputs": [
    {
     "name": "stderr",
     "output_type": "stream",
     "text": [
      "/opt/conda/lib/python3.7/site-packages/sklearn/model_selection/_split.py:297: FutureWarning: Setting a random_state has no effect since shuffle is False. This will raise an error in 0.24. You should leave random_state to its default (None), or set shuffle=True.\n",
      "  FutureWarning\n"
     ]
    }
   ],
   "source": [
    "from sklearn.model_selection import KFold\n",
    "from sklearn.model_selection import cross_val_score\n",
    "#sample code cell, do not run\n",
    "kfold = KFold(n_splits=10, random_state=0)\n",
    "cv_result = cross_val_score(model,X_train,Y_train.values.ravel(),cv = kfold,scoring = \"accuracy\")\n",
    "# returns the above defined score for given \"model\" and \"kfold\" partitioning"
   ]
  },
  {
   "cell_type": "markdown",
   "metadata": {},
   "source": []
  },
  {
   "cell_type": "markdown",
   "metadata": {},
   "source": [
    "# Model Training\n",
    "* We use classification models to classify the type of wine.\n",
    "* But which model is the best. So, here comes the iterative process involved in Machine Learning.\n",
    "* In an itertative process, we try different models with different settings, and picks up the one which performs the best based on the above defined k-fold metrics."
   ]
  },
  {
   "cell_type": "code",
   "execution_count": 18,
   "metadata": {},
   "outputs": [],
   "source": [
    "#We take a list of models and its accuracies\n",
    "model_names = []\n",
    "model_accuracy = []"
   ]
  },
  {
   "attachments": {},
   "cell_type": "markdown",
   "metadata": {},
   "source": [
    "### MODEL-1 (LOGISTIC REGRESSION) ###\n",
    "* This is the simplest classification algorithm we can use in ML.\n",
    "* It draws linear-like boundaries between classes two differenciate them.\n",
    "<img src=\"Images/Glass/8.png\"  width=\"300\" height=\"300\"><br>\n",
    "* It uses a function called sigmoid which squashes the values between 0 and 1 (like probability).\n",
    "* This can be extended to multiclass by taking one to many technique.\n",
    "* Abstracting us from the complexity, scikit learn gives us LogisticRegression() to achieve our objective.\n",
    "* For more detailed explanation of the function, visit https://scikit-learn.org/stable/modules/generated/sklearn.linear_model.LogisticRegression.html"
   ]
  },
  {
   "cell_type": "code",
   "execution_count": 19,
   "metadata": {},
   "outputs": [
    {
     "name": "stdout",
     "output_type": "stream",
     "text": [
      "Logistic Regression : 0.5984686609686609\n"
     ]
    }
   ],
   "source": [
    "from sklearn.linear_model import LogisticRegression\n",
    "model = LogisticRegression(multi_class=\"multinomial\",max_iter=7600)\n",
    "kfold = KFold(n_splits=8, random_state=0,shuffle=True)\n",
    "cv_result = cross_val_score(model,X,Y, cv = kfold,scoring = \"accuracy\")\n",
    "model_names.append(\"Logistic_Regression\")\n",
    "model_accuracy.append(cv_result.mean())\n",
    "print(\"Logistic Regression :\",cv_result.mean())"
   ]
  },
  {
   "attachments": {},
   "cell_type": "markdown",
   "metadata": {},
   "source": [
    " ### Model-2 (K-Nearest-Neighbours) ###\n",
    "* * This is a very intuitive and easy method for classification.\n",
    "* A case is classified by a majority vote of its neighbors, with the case being assigned to the class most common amongst its K nearest neighbors measured by a distance function.\n",
    "* Eucledean distance is mostly used as a distance function.<br><br>\n",
    "<img src=\"Images/Glass/9.png\"  width=\"300\" height=\"300\"><br>\n",
    "* Scikit Learn provides an abstract function \"KNeighborsClassifier\"\n",
    "* For more detailed explanation of the function, visit https://scikit-learn.org/stable/modules/generated/sklearn.neighbors.KNeighborsClassifier.html"
   ]
  },
  {
   "cell_type": "code",
   "execution_count": 20,
   "metadata": {},
   "outputs": [
    {
     "name": "stdout",
     "output_type": "stream",
     "text": [
      "K-Nearest-Neighbors : 0.6642857142857144\n"
     ]
    }
   ],
   "source": [
    "from sklearn.neighbors import KNeighborsClassifier\n",
    "model = KNeighborsClassifier(n_neighbors=3)\n",
    "kfold = KFold(n_splits=10, random_state=0,shuffle=True)\n",
    "cv_result = cross_val_score(model,X,Y, cv = kfold,scoring = \"accuracy\")\n",
    "model_names.append(\"K-Nearest-Neighbors\")\n",
    "model_accuracy.append(cv_result.mean())\n",
    "print(\"K-Nearest-Neighbors :\",cv_result.mean())"
   ]
  },
  {
   "attachments": {},
   "cell_type": "markdown",
   "metadata": {},
   "source": [
    " ### Model-3 (Decision Trees) ###\n",
    " * Decision Trees (DTs) are a non-parametric supervised learning method used for classification and regression. \n",
    " * The goal is to create a model that predicts the value of a target variable by learning simple decision rules inferred from the data features.\n",
    " * Here is an example :\n",
    "<img src=\"Images/Glass/10.png\"  width=\"300\" height=\"300\"><br>\n",
    "* This is most exactly what decision tree does.\n",
    "* For more detailed explanation of the function, visit http://scikit-learn.org/stable/modules/tree.html\n"
   ]
  },
  {
   "cell_type": "code",
   "execution_count": 21,
   "metadata": {},
   "outputs": [
    {
     "name": "stdout",
     "output_type": "stream",
     "text": [
      "Decision Trees : 0.6357142857142858\n"
     ]
    }
   ],
   "source": [
    "from sklearn.tree import DecisionTreeClassifier\n",
    "model = DecisionTreeClassifier()\n",
    "kfold = KFold(n_splits=10, random_state=0,shuffle=True)\n",
    "cv_result = cross_val_score(model,X,Y, cv = kfold,scoring = \"accuracy\")\n",
    "model_names.append(\"Decision Trees\")\n",
    "model_accuracy.append(cv_result.mean())\n",
    "print(\"Decision Trees :\",cv_result.mean())"
   ]
  },
  {
   "attachments": {},
   "cell_type": "markdown",
   "metadata": {},
   "source": [
    " ### Model-4 (Random Forest Classifier) ###\n",
    " * This is one of the best classifiers presently in use which has a concept of ensembling.\n",
    " * Ensembling is a process of combining multiple models, train them parallely, and select the most suitable outcome.\n",
    "* The core working of this model is same as decision trees, except that many trees are constructed and the most voted output is considered.<br>\n",
    "<img src=\"Images/Glass/11.png\"  width=\"300\" height=\"300\"><br>\n",
    "* For more detailed explanation of the function, visit https://scikit-learn.org/stable/modules/generated/sklearn.ensemble.RandomForestClassifier.html"
   ]
  },
  {
   "cell_type": "code",
   "execution_count": 22,
   "metadata": {},
   "outputs": [
    {
     "name": "stdout",
     "output_type": "stream",
     "text": [
      "Random Forest : 0.7857142857142856\n"
     ]
    }
   ],
   "source": [
    "from sklearn.ensemble import RandomForestClassifier\n",
    "model = RandomForestClassifier(n_estimators = 500)\n",
    "kfold = KFold(n_splits=10, random_state=0,shuffle=True)\n",
    "cv_result = cross_val_score(model,X,Y, cv = kfold,scoring = \"accuracy\")\n",
    "model_names.append(\"Random Forest\")\n",
    "model_accuracy.append(cv_result.mean())\n",
    "print(\"Random Forest :\",cv_result.mean())"
   ]
  },
  {
   "attachments": {},
   "cell_type": "markdown",
   "metadata": {},
   "source": [
    " ### Model-4 (Support Vector Machines) ###\n",
    " * Support vector Machines are robust classifiers.\n",
    " * SVC's divide the entire space by hyperplanes(high dimensional lines) to divide each class.\n",
    " * Additional to that, it maintains the best seperation between the classes by maintaining large possible distance from the near points(support vectors).<br>\n",
    "<img src=\"Images/Glass/12.png\"  width=\"300\" height=\"300\"><br>\n",
    " * For more detailed explanation of the function, visit https://scikit-learn.org/stable/modules/generated/sklearn.svm.SVC.html"
   ]
  },
  {
   "cell_type": "code",
   "execution_count": 23,
   "metadata": {},
   "outputs": [
    {
     "name": "stdout",
     "output_type": "stream",
     "text": [
      "Support Vector Classifier : 0.6229437229437228\n"
     ]
    }
   ],
   "source": [
    "from sklearn.svm import SVC\n",
    "model = SVC( kernel = \"linear\") #linear hyperplane, we can also choose non-linear\n",
    "kfold = KFold(n_splits=10, random_state=0,shuffle=True)\n",
    "cv_result = cross_val_score(model,X,Y, cv = kfold,scoring = \"accuracy\")\n",
    "model_names.append(\"Support Vector Classifier\")\n",
    "model_accuracy.append(cv_result.mean())\n",
    "print(\"Support Vector Classifier :\",cv_result.mean())"
   ]
  },
  {
   "attachments": {},
   "cell_type": "markdown",
   "metadata": {},
   "source": [
    "## Model-5 (XGB Classifier)\n",
    "* Same as the random forest's ensembling method, Gradient boosting is an ensembling method where multiple calssifiers are used.\n",
    "* Unlike Random Forests, they are boosted. This means, instead of choosing majority of many individuals, each individual is built upon the mistakes of previous individuals\n",
    "<img src=\"Images/Glass/13.png\"  width=\"500\" height=\"500\"><br>\n",
    "* For more detailed explanation of the function, visit https://scikit-learn.org/stable/modules/generated/sklearn.ensemble.GradientBoostingClassifier.html"
   ]
  },
  {
   "cell_type": "code",
   "execution_count": 24,
   "metadata": {},
   "outputs": [
    {
     "name": "stdout",
     "output_type": "stream",
     "text": [
      "XGB Classifier : 0.7629870129870129\n"
     ]
    }
   ],
   "source": [
    "from xgboost import XGBClassifier\n",
    "model = XGBClassifier() #linear hyperplane, we can also choose non-linear\n",
    "kfold = KFold(n_splits=10, random_state=0,shuffle=True)\n",
    "cv_result = cross_val_score(model,X,Y, cv = kfold,scoring = \"accuracy\")\n",
    "model_names.append(\"XGB Classifier\")\n",
    "model_accuracy.append(cv_result.mean())\n",
    "print(\"XGB Classifier :\",cv_result.mean())"
   ]
  },
  {
   "cell_type": "markdown",
   "metadata": {},
   "source": [
    "## Model Tuning \n",
    "* We also perform model tuning also called hyperparameter tuning to see which parameters for the models works best.\n",
    "* We leave it as an excercise for you to explore different parameters and create intuitions for better understanding."
   ]
  },
  {
   "cell_type": "markdown",
   "metadata": {},
   "source": [
    "# Model Evaluation\n",
    " * k-fold cross validation is a good technique for model evaluation which we have already done.\n",
    " * But we shall look at an another popular way of evaluation which is using a confusion matrix.\n",
    " * We will evaluate this metric on only Random Forest method which gave the best accuracy.\n",
    " * For practice, you implement this metric for other models we defined above."
   ]
  },
  {
   "attachments": {},
   "cell_type": "markdown",
   "metadata": {},
   "source": [
    "## Confusion Matrix\n",
    "* A classification problem can be evaluated by using many scoring techniques.\n",
    "* But, for any scoring technique, the base is a confusion matrix.\n",
    "<img src=\"Images/Glass/14.png\"  width=\"300\" height=\"300\"><br>\n",
    "* The key attributes in a confusion matrix are:<br><br>\n",
    "    1) **True Positive (TP):** It refers to the number of predictions where the classifier correctly predicts the positive class as positive.<br><br>\n",
    "    2) **True Negative (TN):** It refers to the number of predictions where the classifier correctly predicts the negative class as negative.<br><br>\n",
    "    3) **False Positive (FP):** It refers to the number of predictions where the classifier incorrectly predicts the negative class as positive.<br><br>\n",
    "    4) **False Negative (FN):** It refers to the number of predictions where the classifier incorrectly predicts the positive class as negative.<br><br>\n"
   ]
  },
  {
   "cell_type": "code",
   "execution_count": 25,
   "metadata": {},
   "outputs": [],
   "source": [
    "from sklearn.metrics import confusion_matrix\n",
    "from sklearn.model_selection import train_test_split \n",
    "X_train, X_test, y_train, y_test = train_test_split(X, Y, test_size=0.3, random_state=42) #Splitting data into test and train with 0.3 fraction\n",
    "model = RandomForestClassifier(n_estimators = 500)\n",
    "model.fit(X_train,y_train)                            #Training on X_train\n",
    "y_pred = model.predict(X_test)                        #Predicting on X_test\n",
    "confusion_mat = confusion_matrix(y_test, y_pred)    #Constructing the confusion matrix"
   ]
  },
  {
   "cell_type": "markdown",
   "metadata": {},
   "source": [
    "### Plotting the confusion matrix.\n",
    "* refer \"https://scikit-learn.org/stable/auto_examples/model_selection/plot_confusion_matrix.html\" for more options.\n"
   ]
  },
  {
   "cell_type": "code",
   "execution_count": 26,
   "metadata": {},
   "outputs": [
    {
     "data": {
      "image/png": "[encoded data removed]",
      "text/plain": [
       "<Figure size 432x288 with 2 Axes>"
      ]
     },
     "metadata": {
      "needs_background": "light"
     },
     "output_type": "display_data"
    }
   ],
   "source": [
    "from sklearn.metrics import plot_confusion_matrix\n",
    "import matplotlib.pyplot as plt\n",
    "disp = plot_confusion_matrix(model, X_test, y_test,cmap=plt.cm.Blues)"
   ]
  },
  {
   "attachments": {},
   "cell_type": "markdown",
   "metadata": {},
   "source": [
    "## What and why confusion matrix????\n",
    "* Consider an example of binary classification where we classify dog or not a dog.\n",
    "* We have done preprocessing and training and its time to test the model.\n",
    "* Let's make the following definitions:<br>\n",
    "    \"Dog\" is a positive class.<br>\n",
    "    \"Not a dog\" is a negative class.<br>\n",
    "* We can summarize our \"dog-prediction\" model using a 2x2 confusion matrix that depicts all four possible outcomes:<br>\n",
    "<img src=\"Images/Glass/15.png\"  width=\"700\" height=\"700\"><br>\n"
   ]
  },
  {
   "attachments": {},
   "cell_type": "markdown",
   "metadata": {},
   "source": [
    "* So, fine. We can take accuracy as the metric and evaluate the model.<br>\n",
    "<img src=\"Images/Glass/16.png\"  width=\"350\" height=\"350\"><br>\n",
    "* But, Accuracy alone doesn't tell the full story when you're working with a class-imbalanced data set, like this one, where there is a significant disparity between the number of positive and negative labels."
   ]
  },
  {
   "attachments": {},
   "cell_type": "markdown",
   "metadata": {},
   "source": [
    "### Precision and Recall\n",
    "* Enter precision and recall.\n",
    "* **Precision** attempts to answer the following question:<br>\n",
    "What proportion of positive identifications was actually correct?\n",
    "* **Recall** attempts to answer the following question:<br>\n",
    "What proportion of actual positives was identified correctly?\n",
    "* To fully evaluate the effectiveness of a model, you must examine both precision and recall. Unfortunately, precision and recall are often in tension. That is, improving precision typically reduces recall and vice versa.<br>\n",
    "<img src=\"Images/Glass/17.png\"  width=\"400\" height=\"400\"><br>"
   ]
  },
  {
   "attachments": {},
   "cell_type": "markdown",
   "metadata": {},
   "source": [
    "### F1-SCORE\n",
    "* Since precision and recall individually cannot determine the model capacity, we have **f1-score**.\n",
    "* F1 Score might be a better measure to use if we need to seek a balance between Precision and Recall AND there is an uneven class distribution (large number of Actual Negatives)<br>\n",
    "<img src=\"Images/Glass/18.png\"  width=\"300\" height=\"300\"><br>\n",
    "* sklearn provides well defines implementation of this f1-score.\n",
    "* The parameters requird are ground truth,predictions and since we are woring on multiclass classification and an imbalanced dataset, we choose the averaging option to be weighted.\n",
    "* refer to \"https://scikit-learn.org/stable/modules/generated/sklearn.metrics.f1_score.html\" for more information"
   ]
  },
  {
   "cell_type": "code",
   "execution_count": 27,
   "metadata": {},
   "outputs": [
    {
     "name": "stdout",
     "output_type": "stream",
     "text": [
      "0.7741000085186132\n"
     ]
    }
   ],
   "source": [
    "from sklearn.metrics import f1_score\n",
    "s1 = f1_score(y_test, y_pred, average='weighted')\n",
    "print(s1)"
   ]
  },
  {
   "cell_type": "markdown",
   "metadata": {},
   "source": [
    "* Feel free to try the f1-score metric with other models too. It will be a good practice."
   ]
  },
  {
   "cell_type": "markdown",
   "metadata": {},
   "source": [
    "# Summary\n",
    "* Due to the soft limit on the size of notebook and also long notebooks does not engage you well, we have given all the basics of solving a multiclass classification problem in a precise way.\n",
    "* Please make yourself more comfortable with the libraries by visiting the given URL's.\n",
    "* We wish, this notebook removes your fear of implementing an algorithm and motivates you to start the habit of reffering and learning from notebooks and make your hands dirty."
   ]
  },
  {
   "cell_type": "markdown",
   "metadata": {},
   "source": [
    "#                           Thank You"
   ]
  }
 ],
 "metadata": {
  "kernelspec": {
   "display_name": "Python 3",
   "language": "python",
   "name": "python3"
  },
  "language_info": {
   "codemirror_mode": {
    "name": "ipython",
    "version": 3
   },
   "file_extension": ".py",
   "mimetype": "text/x-python",
   "name": "python",
   "nbconvert_exporter": "python",
   "pygments_lexer": "ipython3",
   "version": "3.7.3"
  }
 },
 "nbformat": 4,
 "nbformat_minor": 4
}
